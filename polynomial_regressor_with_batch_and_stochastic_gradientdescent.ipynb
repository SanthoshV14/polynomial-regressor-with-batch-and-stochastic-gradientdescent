{
  "nbformat": 4,
  "nbformat_minor": 0,
  "metadata": {
    "colab": {
      "provenance": []
    },
    "kernelspec": {
      "name": "python3",
      "display_name": "Python 3"
    },
    "language_info": {
      "name": "python"
    }
  },
  "cells": [
    {
      "cell_type": "markdown",
      "source": [
        "*Creating the dataset*"
      ],
      "metadata": {
        "id": "_YxnyKotZjNF"
      }
    },
    {
      "cell_type": "code",
      "execution_count": null,
      "metadata": {
        "colab": {
          "base_uri": "https://localhost:8080/",
          "height": 291
        },
        "id": "WOA7Ul44F2TK",
        "outputId": "82f6af09-fe5c-492e-b019-e87019cb7d1a"
      },
      "outputs": [
        {
          "output_type": "display_data",
          "data": {
            "text/plain": [
              "<Figure size 432x288 with 1 Axes>"
            ],
            "image/png": "[encoded data removed]"
          },
          "metadata": {
            "needs_background": "light"
          }
        }
      ],
      "source": [
        "# Creating the dataset\n",
        "import numpy as np\n",
        "import numpy.random as rnd\n",
        "import matplotlib.pyplot as plt\n",
        "\n",
        "np.random.seed(42)\n",
        "m = 100\n",
        "X = 6 * np.random.rand(m, 1) - 3\n",
        "y = 0.5 * X**2 + X + 2 + np.random.randn(m, 1)\n",
        "plt.plot(X, y, \"b.\")\n",
        "plt.xlabel(\"$x_1$\", fontsize=18)\n",
        "plt.ylabel(\"$y$\", rotation=0, fontsize=18)\n",
        "plt.axis([-3, 3, 0, 10])\n",
        "plt.show()"
      ]
    },
    {
      "cell_type": "markdown",
      "source": [
        "*Fitting the model with Batch Gradient Descent*"
      ],
      "metadata": {
        "id": "wvWBzfkfZ4c1"
      }
    },
    {
      "cell_type": "code",
      "source": [
        "# Batch Gradient Descent\n",
        "\n",
        "coefficients = np.random.rand(1, 3).T\n",
        "equation = np.append(np.append(X**2, X, 1), X**0, 1)\n",
        "length = len(y)\n",
        "learning_rate = 0.01\n",
        "epochs = 100\n",
        "prediction = np.array([])\n",
        "\n",
        "def predict():\n",
        "  return np.dot(equation, coefficients)\n",
        "\n",
        "def cost_funtion(prediction):\n",
        "  return (1/length)*(np.sum(np.square(y-prediction)))\n",
        "\n",
        "def calculate_coefficient(X, prediction):\n",
        "  return (2/length)*learning_rate*(np.sum(np.dot((X).T, (prediction-y))))\n",
        "\n",
        "def gradient_descent(prediction):\n",
        "  return coefficients - np.array([[calculate_coefficient(X**2, prediction)],\n",
        "                                  [calculate_coefficient(X, prediction)],\n",
        "                                  [calculate_coefficient(X**0, prediction)]])\n",
        "\n",
        "\n",
        "for i in range(epochs):\n",
        "  prediction = predict()\n",
        "  cost = cost_funtion(prediction)\n",
        "  coefficients = gradient_descent(prediction)\n",
        "\n",
        "plt.plot(X, y, \"b.\")\n",
        "plt.plot(X, prediction, \"r.\")\n",
        "plt.xlabel(\"$x_1$\", fontsize=18)\n",
        "plt.ylabel(\"$y$\", rotation=0, fontsize=18)\n",
        "plt.axis([-3, 3, 0, 10])\n",
        "plt.show()"
      ],
      "metadata": {
        "id": "c9tOtmRXsAP4",
        "colab": {
          "base_uri": "https://localhost:8080/",
          "height": 291
        },
        "outputId": "0e2940bf-fb1f-4c8f-995c-fdaac4f58656"
      },
      "execution_count": null,
      "outputs": [
        {
          "output_type": "display_data",
          "data": {
            "text/plain": [
              "<Figure size 432x288 with 1 Axes>"
            ],
            "image/png": "[encoded data removed]"
          },
          "metadata": {
            "needs_background": "light"
          }
        }
      ]
    },
    {
      "cell_type": "markdown",
      "source": [
        "*Fitting the model with Stochastic Gradient Descent*"
      ],
      "metadata": {
        "id": "qKyFSY3maLjq"
      }
    },
    {
      "cell_type": "code",
      "source": [
        "# Stochastic Gradient Descent\n",
        "\n",
        "coefficients = np.random.rand(1, 3).T\n",
        "equation = np.append(np.append(X**2, X, 1), X**0, 1)\n",
        "learning_rate = 0.1\n",
        "length = len(y)\n",
        "epochs = 100\n",
        "prediction = np.array([])\n",
        "\n",
        "def predict():\n",
        "  return np.dot(equation, coefficients)\n",
        "\n",
        "def cost_funtion(prediction):\n",
        "  return (1/length)*(np.sum(np.square(y-prediction)))\n",
        "\n",
        "def calculate_coefficient(current_X, current_prediction, current_y):\n",
        "  return (2/length)*learning_rate*(np.sum(np.dot(current_X, (current_prediction-current_y))))\n",
        "\n",
        "def gradient_descent(prediction):\n",
        "  # choosing a random sample\n",
        "  index = random.randint(0, length-1)\n",
        "  current_X = X[index]\n",
        "  current_y = y[index]\n",
        "  current_prediction = prediction[index]\n",
        "  return coefficients - np.array([[calculate_coefficient(current_X**2, current_prediction, current_y)],\n",
        "                                  [calculate_coefficient(current_X, current_prediction, current_y)],\n",
        "                                  [calculate_coefficient(current_X**0, current_prediction, current_y)]])\n",
        "\n",
        "\n",
        "for i in range(epochs):\n",
        "  prediction = predict()\n",
        "  cost = cost_funtion(prediction)\n",
        "  coefficients = gradient_descent(prediction)\n",
        "\n",
        "plt.plot(X, y, \"b.\")\n",
        "plt.plot(X, prediction, \"r.\")\n",
        "plt.xlabel(\"$x_1$\", fontsize=18)\n",
        "plt.ylabel(\"$y$\", rotation=0, fontsize=18)\n",
        "plt.axis([-3, 3, 0, 10])\n",
        "plt.show()"
      ],
      "metadata": {
        "colab": {
          "base_uri": "https://localhost:8080/",
          "height": 291
        },
        "id": "_ci0ql2RLKq2",
        "outputId": "8c88dd3a-4f47-4a27-867e-f0b383b930a7"
      },
      "execution_count": null,
      "outputs": [
        {
          "output_type": "display_data",
          "data": {
            "text/plain": [
              "<Figure size 432x288 with 1 Axes>"
            ],
            "image/png": "[encoded data removed]"
          },
          "metadata": {
            "needs_background": "light"
          }
        }
      ]
    }
  ]
}